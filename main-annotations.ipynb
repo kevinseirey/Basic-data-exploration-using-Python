{
 "cells": [
  {
   "cell_type": "markdown",
   "metadata": {},
   "source": [
    "#Project 1 - Cleaning and preparing tables on Python Pandas\n",
    "\n",
    "1 - Description of project\n",
    "\n",
    "Demonstrative project using Python and DA libraries. The objective is using these libraries and functions in order to read and prepare some tables.\n",
    "\n",
    "\n",
    "2 - Structure\n",
    "\n",
    "- Folder table contains 3x Excel tables. They are already prepared for use (I checked for duplicity, null values and rows, mistyping, bad number formatting, equalizing columns of the three files). It was already worked inside Excel itself using formulas and formatting. The first row of the three is the column names.\n",
    "\n",
    "\n",
    "3 - Steps\n",
    "\n",
    "- Created a project on GitHub to manage the changes, loaded files (concordia, mcgill, trebas.xlsx), created jupyter files to document process.\n",
    "- "
   ]
  },
  {
   "cell_type": "code",
   "execution_count": 11,
   "metadata": {},
   "outputs": [],
   "source": [
    "#Import 3 sheets\n",
    "\n",
    "import pandas as pd\n",
    "dfcon = pd.read_excel('data/Concordia.xlsx')\n",
    "dfmcg = pd.read_excel('data/McGill.xlsx')\n",
    "dftre = pd.read_excel('data/TREBAS.xlsx')"
   ]
  },
  {
   "cell_type": "code",
   "execution_count": 12,
   "metadata": {},
   "outputs": [
    {
     "name": "stdout",
     "output_type": "stream",
     "text": [
      "<class 'pandas.core.frame.DataFrame'>\n",
      "RangeIndex: 888 entries, 0 to 887\n",
      "Data columns (total 8 columns):\n",
      " #   Column      Non-Null Count  Dtype  \n",
      "---  ------      --------------  -----  \n",
      " 0   ID          888 non-null    int64  \n",
      " 1   Full Name   888 non-null    object \n",
      " 2   First Name  888 non-null    object \n",
      " 3   Last Name   874 non-null    object \n",
      " 4   City        0 non-null      float64\n",
      " 5   Country     888 non-null    object \n",
      " 6   Program     888 non-null    object \n",
      " 7   Flag        888 non-null    object \n",
      "dtypes: float64(1), int64(1), object(6)\n",
      "memory usage: 55.6+ KB\n"
     ]
    }
   ],
   "source": [
    "#dfcon.head()\n",
    "#dfcon.shape\n",
    "dfcon.info()"
   ]
  },
  {
   "cell_type": "code",
   "execution_count": 13,
   "metadata": {},
   "outputs": [],
   "source": [
    "#dfmcg.head()\n",
    "#dfmcg.shape\n",
    "#dfmcg.info()"
   ]
  },
  {
   "cell_type": "code",
   "execution_count": 14,
   "metadata": {},
   "outputs": [],
   "source": [
    "#dftre.head()\n",
    "#dftre.shape\n",
    "#dftre.info()"
   ]
  },
  {
   "cell_type": "code",
   "execution_count": 18,
   "metadata": {},
   "outputs": [
    {
     "data": {
      "text/html": [
       "<div>\n",
       "<style scoped>\n",
       "    .dataframe tbody tr th:only-of-type {\n",
       "        vertical-align: middle;\n",
       "    }\n",
       "\n",
       "    .dataframe tbody tr th {\n",
       "        vertical-align: top;\n",
       "    }\n",
       "\n",
       "    .dataframe thead th {\n",
       "        text-align: right;\n",
       "    }\n",
       "</style>\n",
       "<table border=\"1\" class=\"dataframe\">\n",
       "  <thead>\n",
       "    <tr style=\"text-align: right;\">\n",
       "      <th></th>\n",
       "      <th>ID</th>\n",
       "      <th>Full Name</th>\n",
       "      <th>First Name</th>\n",
       "      <th>Last Name</th>\n",
       "      <th>City</th>\n",
       "      <th>Country</th>\n",
       "      <th>Program</th>\n",
       "      <th>Flag</th>\n",
       "    </tr>\n",
       "  </thead>\n",
       "  <tbody>\n",
       "    <tr>\n",
       "      <th>0</th>\n",
       "      <td>1</td>\n",
       "      <td>A. S. Neill</td>\n",
       "      <td>A.</td>\n",
       "      <td>S. Neill</td>\n",
       "      <td>NaN</td>\n",
       "      <td>England</td>\n",
       "      <td>Analytics</td>\n",
       "      <td>Concordia</td>\n",
       "    </tr>\n",
       "    <tr>\n",
       "      <th>1</th>\n",
       "      <td>2</td>\n",
       "      <td>Abe Moffat</td>\n",
       "      <td>Abe</td>\n",
       "      <td>Moffat</td>\n",
       "      <td>NaN</td>\n",
       "      <td>Scotland</td>\n",
       "      <td>Analytics</td>\n",
       "      <td>Concordia</td>\n",
       "    </tr>\n",
       "    <tr>\n",
       "      <th>2</th>\n",
       "      <td>3</td>\n",
       "      <td>Adam Ant</td>\n",
       "      <td>Adam</td>\n",
       "      <td>Ant</td>\n",
       "      <td>NaN</td>\n",
       "      <td>England</td>\n",
       "      <td>Analytics</td>\n",
       "      <td>Concordia</td>\n",
       "    </tr>\n",
       "    <tr>\n",
       "      <th>3</th>\n",
       "      <td>4</td>\n",
       "      <td>Adam Dodd</td>\n",
       "      <td>Adam</td>\n",
       "      <td>Dodd</td>\n",
       "      <td>NaN</td>\n",
       "      <td>England</td>\n",
       "      <td>Analytics</td>\n",
       "      <td>Concordia</td>\n",
       "    </tr>\n",
       "    <tr>\n",
       "      <th>4</th>\n",
       "      <td>5</td>\n",
       "      <td>Adam Smith</td>\n",
       "      <td>Adam</td>\n",
       "      <td>Smith</td>\n",
       "      <td>NaN</td>\n",
       "      <td>Scotland</td>\n",
       "      <td>Analytics</td>\n",
       "      <td>Concordia</td>\n",
       "    </tr>\n",
       "  </tbody>\n",
       "</table>\n",
       "</div>"
      ],
      "text/plain": [
       "  ID    Full Name First Name Last Name City   Country    Program       Flag\n",
       "0  1  A. S. Neill         A.  S. Neill  NaN   England  Analytics  Concordia\n",
       "1  2   Abe Moffat        Abe    Moffat  NaN  Scotland  Analytics  Concordia\n",
       "2  3     Adam Ant       Adam       Ant  NaN   England  Analytics  Concordia\n",
       "3  4    Adam Dodd       Adam      Dodd  NaN   England  Analytics  Concordia\n",
       "4  5   Adam Smith       Adam     Smith  NaN  Scotland  Analytics  Concordia"
      ]
     },
     "execution_count": 18,
     "metadata": {},
     "output_type": "execute_result"
    }
   ],
   "source": [
    "dtotal = pd.concat([dfcon, dfmcg, dftre])\n",
    "dtotal.head()\n"
   ]
  },
  {
   "cell_type": "code",
   "execution_count": null,
   "metadata": {},
   "outputs": [],
   "source": []
  }
 ],
 "metadata": {
  "kernelspec": {
   "display_name": "Python 3.10.7 64-bit",
   "language": "python",
   "name": "python3"
  },
  "language_info": {
   "codemirror_mode": {
    "name": "ipython",
    "version": 3
   },
   "file_extension": ".py",
   "mimetype": "text/x-python",
   "name": "python",
   "nbconvert_exporter": "python",
   "pygments_lexer": "ipython3",
   "version": "3.10.7"
  },
  "orig_nbformat": 4,
  "vscode": {
   "interpreter": {
    "hash": "bd5508c2ffc7f17f7d31cf4086cc872f89e96996a08987e995649e5fbe85a3a4"
   }
  }
 },
 "nbformat": 4,
 "nbformat_minor": 2
}
